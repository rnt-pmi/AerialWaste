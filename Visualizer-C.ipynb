{
 "cells": [
  {
   "cell_type": "code",
   "execution_count": null,
   "metadata": {},
   "outputs": [],
   "source": [
    "import sys\n",
    "import os\n",
    "sys.path.insert(0, \"/notebooks/annotations_landfills/odin-internal/\")\n",
    "import json\n",
    "from odin.classes import TaskType, DatasetClassification, VisualizerClassification\n",
    "\n",
    "\n",
    "dataset_gt_param = \"training.json\" \n",
    "images_path = \"images\"\n",
    "\n",
    "classification_type = TaskType.CLASSIFICATION_MULTI_LABEL"
   ]
  },
  {
   "cell_type": "code",
   "execution_count": null,
   "metadata": {},
   "outputs": [],
   "source": [
    "my_dataset = DatasetClassification(dataset_gt_param, classification_type,\n",
    "                          observations_abs_path=images_path, properties_file=\"prop_class.json\", for_analysis=True)#, save_graphs_as_png=False)"
   ]
  },
  {
   "cell_type": "code",
   "execution_count": null,
   "metadata": {},
   "outputs": [],
   "source": [
    "visualizer = VisualizerClassification(my_dataset)\n",
    "visualizer.visualize_annotations()"
   ]
  },
  {
   "cell_type": "code",
   "execution_count": null,
   "metadata": {},
   "outputs": [],
   "source": []
  }
 ],
 "metadata": {
  "kernelspec": {
   "display_name": "Python 3 (ipykernel)",
   "language": "python",
   "name": "python3"
  },
  "language_info": {
   "codemirror_mode": {
    "name": "ipython",
    "version": 3
   },
   "file_extension": ".py",
   "mimetype": "text/x-python",
   "name": "python",
   "nbconvert_exporter": "python",
   "pygments_lexer": "ipython3",
   "version": "3.8.5"
  }
 },
 "nbformat": 4,
 "nbformat_minor": 2
}
