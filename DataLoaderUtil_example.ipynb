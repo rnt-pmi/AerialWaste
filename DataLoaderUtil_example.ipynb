{
 "cells": [
  {
   "cell_type": "code",
   "execution_count": 1,
   "metadata": {},
   "outputs": [],
   "source": [
    "from utils import dataloader\n",
    "\n",
    "from tqdm import tqdm\n",
    "from torch.utils.data import DataLoader\n",
    "\n",
    "infer_list =\"training.json\" \n",
    "dataset_root =\"images\""
   ]
  },
  {
   "cell_type": "markdown",
   "metadata": {},
   "source": [
    "### Binary dataset  "
   ]
  },
  {
   "cell_type": "code",
   "execution_count": 2,
   "metadata": {},
   "outputs": [
    {
     "name": "stderr",
     "output_type": "stream",
     "text": [
      "  0%|          | 0/7829 [00:00<?, ?it/s]"
     ]
    },
    {
     "name": "stdout",
     "output_type": "stream",
     "text": [
      "Amount of images 7829\n",
      "3456.png\n",
      "[[[ 70  72  70 ...  78  83  83]\n",
      "  [ 71  67  68 ...  81  79  81]\n",
      "  [ 72  68  62 ...  89  78  81]\n",
      "  ...\n",
      "  [ 88  78  80 ... 131  97  98]\n",
      "  [ 75  78  81 ... 160 104  99]\n",
      "  [ 79  77  80 ... 125  82 100]]\n",
      "\n",
      " [[ 96  93 107 ... 100 105 104]\n",
      "  [ 97  94  91 ... 103 100 101]\n",
      "  [ 98  93  91 ... 108  94  98]\n",
      "  ...\n",
      "  [108  98  99 ... 132 105 107]\n",
      "  [ 96  99 101 ... 164 117 112]\n",
      "  [ 99  98 100 ... 128  91 106]]\n",
      "\n",
      " [[ 72  70  80 ...  74  80  77]\n",
      "  [ 74  70  68 ...  79  77  80]\n",
      "  [ 75  71  65 ...  86  73  74]\n",
      "  ...\n",
      "  [ 89  79  79 ... 121  91  94]\n",
      "  [ 76  80  81 ... 154 100  97]\n",
      "  [ 79  78  80 ... 115  74  92]]]\n",
      "tensor([1])\n"
     ]
    },
    {
     "name": "stderr",
     "output_type": "stream",
     "text": [
      "\n"
     ]
    }
   ],
   "source": [
    "databin = dataloader.ClassificationDataset(infer_list, dataset_root=dataset_root, binary=True)\n",
    "print(\"Amount of images\", len(databin))\n",
    "num_classes_binary = databin.label_list.shape[1]\n",
    "for img in tqdm(databin):\n",
    "    print(img[\"name\"])\n",
    "    print(img[\"img\"])\n",
    "    print(img[\"label\"])\n",
    "    break"
   ]
  },
  {
   "cell_type": "markdown",
   "metadata": {},
   "source": [
    "### Multi-label dataset "
   ]
  },
  {
   "cell_type": "code",
   "execution_count": 3,
   "metadata": {},
   "outputs": [
    {
     "name": "stderr",
     "output_type": "stream",
     "text": [
      "  0%|          | 0/547 [00:00<?, ?it/s]"
     ]
    },
    {
     "name": "stdout",
     "output_type": "stream",
     "text": [
      "Amount of images 547\n",
      "3456.png\n",
      "[[[ 70  72  70 ...  78  83  83]\n",
      "  [ 71  67  68 ...  81  79  81]\n",
      "  [ 72  68  62 ...  89  78  81]\n",
      "  ...\n",
      "  [ 88  78  80 ... 131  97  98]\n",
      "  [ 75  78  81 ... 160 104  99]\n",
      "  [ 79  77  80 ... 125  82 100]]\n",
      "\n",
      " [[ 96  93 107 ... 100 105 104]\n",
      "  [ 97  94  91 ... 103 100 101]\n",
      "  [ 98  93  91 ... 108  94  98]\n",
      "  ...\n",
      "  [108  98  99 ... 132 105 107]\n",
      "  [ 96  99 101 ... 164 117 112]\n",
      "  [ 99  98 100 ... 128  91 106]]\n",
      "\n",
      " [[ 72  70  80 ...  74  80  77]\n",
      "  [ 74  70  68 ...  79  77  80]\n",
      "  [ 75  71  65 ...  86  73  74]\n",
      "  ...\n",
      "  [ 89  79  79 ... 121  91  94]\n",
      "  [ 76  80  81 ... 154 100  97]\n",
      "  [ 79  78  80 ... 115  74  92]]]\n",
      "tensor([1, 0, 0, 0, 0, 0, 0, 0, 0, 0, 0, 0, 0, 0, 0, 0, 0, 0, 0, 0, 0, 0])\n"
     ]
    },
    {
     "name": "stderr",
     "output_type": "stream",
     "text": [
      "\n"
     ]
    }
   ],
   "source": [
    "data_multilabel = dataloader.ClassificationDataset(infer_list, dataset_root=dataset_root, binary=False)\n",
    "num_classes_multi_label = data_multilabel.label_list.shape[1]\n",
    "print(\"Amount of images\", len(data_multilabel))\n",
    "for img in tqdm(data_multilabel):\n",
    "    print(img[\"name\"])\n",
    "    print(img[\"img\"])\n",
    "    print(img[\"label\"])\n",
    "    break"
   ]
  },
  {
   "cell_type": "markdown",
   "metadata": {},
   "source": [
    "### Multi-label dataset (filtering out classes)"
   ]
  },
  {
   "cell_type": "code",
   "execution_count": 4,
   "metadata": {},
   "outputs": [
    {
     "name": "stderr",
     "output_type": "stream",
     "text": [
      "\r",
      "  0%|          | 0/354 [00:00<?, ?it/s]"
     ]
    },
    {
     "name": "stdout",
     "output_type": "stream",
     "text": [
      "Amount of images 354\n"
     ]
    },
    {
     "name": "stderr",
     "output_type": "stream",
     "text": [
      "\r",
      "  0%|          | 0/354 [00:00<?, ?it/s]"
     ]
    },
    {
     "name": "stdout",
     "output_type": "stream",
     "text": [
      "3456.png\n",
      "[[[ 70  72  70 ...  78  83  83]\n",
      "  [ 71  67  68 ...  81  79  81]\n",
      "  [ 72  68  62 ...  89  78  81]\n",
      "  ...\n",
      "  [ 88  78  80 ... 131  97  98]\n",
      "  [ 75  78  81 ... 160 104  99]\n",
      "  [ 79  77  80 ... 125  82 100]]\n",
      "\n",
      " [[ 96  93 107 ... 100 105 104]\n",
      "  [ 97  94  91 ... 103 100 101]\n",
      "  [ 98  93  91 ... 108  94  98]\n",
      "  ...\n",
      "  [108  98  99 ... 132 105 107]\n",
      "  [ 96  99 101 ... 164 117 112]\n",
      "  [ 99  98 100 ... 128  91 106]]\n",
      "\n",
      " [[ 72  70  80 ...  74  80  77]\n",
      "  [ 74  70  68 ...  79  77  80]\n",
      "  [ 75  71  65 ...  86  73  74]\n",
      "  ...\n",
      "  [ 89  79  79 ... 121  91  94]\n",
      "  [ 76  80  81 ... 154 100  97]\n",
      "  [ 79  78  80 ... 115  74  92]]]\n",
      "tensor([1, 0, 0])\n"
     ]
    },
    {
     "name": "stderr",
     "output_type": "stream",
     "text": [
      "\n"
     ]
    }
   ],
   "source": [
    "data_multilabel = dataloader.ClassificationDataset(infer_list, dataset_root=dataset_root, binary=False, classes = [1,2, 6])\n",
    "num_classes_multi_label = data_multilabel.label_list.shape[1]\n",
    "print(\"Amount of images\", len(data_multilabel))\n",
    "for img in tqdm(data_multilabel):\n",
    "    print(img[\"name\"])\n",
    "    print(img[\"img\"])\n",
    "    print(img[\"label\"])\n",
    "    break"
   ]
  },
  {
   "cell_type": "code",
   "execution_count": null,
   "metadata": {},
   "outputs": [],
   "source": []
  }
 ],
 "metadata": {
  "kernelspec": {
   "display_name": "Python 3",
   "language": "python",
   "name": "python3"
  },
  "language_info": {
   "codemirror_mode": {
    "name": "ipython",
    "version": 3
   },
   "file_extension": ".py",
   "mimetype": "text/x-python",
   "name": "python",
   "nbconvert_exporter": "python",
   "pygments_lexer": "ipython3",
   "version": "3.6.8"
  }
 },
 "nbformat": 4,
 "nbformat_minor": 2
}
