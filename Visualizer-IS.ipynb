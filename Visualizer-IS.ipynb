{
 "cells": [
  {
   "cell_type": "code",
   "execution_count": 1,
   "metadata": {},
   "outputs": [],
   "source": [
    "import sys\n",
    "import os\n",
    "sys.path.insert(0, \"/notebooks/annotations_landfills/odin-internal/\")\n",
    "import json\n",
    "from odin.classes import TaskType, DatasetLocalization, VisualizerLocalization\n",
    "\n",
    "\n",
    "dataset_gt_param = \"testing.json\" \n",
    " \n",
    "images_path = \"images\"\n",
    "\n",
    "task_type = TaskType.INSTANCE_SEGMENTATION"
   ]
  },
  {
   "cell_type": "code",
   "execution_count": 2,
   "metadata": {},
   "outputs": [
    {
     "name": "stderr",
     "output_type": "stream",
     "text": [
      "2022-03-22 19:39:35,996 - INFO - Note: NumExpr detected 16 cores but \"NUMEXPR_MAX_THREADS\" not set, so enforcing safe limit of 8.\n",
      "2022-03-22 19:39:35,997 - INFO - NumExpr defaulting to 8 threads.\n"
     ]
    },
    {
     "name": "stdout",
     "output_type": "stream",
     "text": [
      "Loading dataset...\n",
      "Done!\n"
     ]
    }
   ],
   "source": [
    "my_dataset = DatasetLocalization(dataset_gt_param, task_type,\n",
    "                          images_abs_path=images_path,properties_file=\"prop_seg.json\", for_analysis=False)"
   ]
  },
  {
   "cell_type": "code",
   "execution_count": 3,
   "metadata": {},
   "outputs": [
    {
     "data": {
      "application/javascript": [
       "\n",
       "                require.config({\n",
       "                    paths: {\n",
       "                        html2canvas: \"https://html2canvas.hertzen.com/dist/html2canvas.min\"\n",
       "                    }\n",
       "                });\n",
       "            "
      ],
      "text/plain": [
       "<IPython.core.display.Javascript object>"
      ]
     },
     "metadata": {},
     "output_type": "display_data"
    },
    {
     "data": {
      "application/vnd.jupyter.widget-view+json": {
       "model_id": "c41e469c20cb451d909b8db68d80e797",
       "version_major": 2,
       "version_minor": 0
      },
      "text/plain": [
       "VBox(children=(HBox(children=(BoundedIntText(value=1, layout=Layout(height='35px', width='80px'), max=169, min…"
      ]
     },
     "metadata": {},
     "output_type": "display_data"
    }
   ],
   "source": [
    "visualizer = VisualizerLocalization(my_dataset)\n",
    "visualizer.visualize_annotations()"
   ]
  },
  {
   "cell_type": "code",
   "execution_count": null,
   "metadata": {},
   "outputs": [],
   "source": []
  }
 ],
 "metadata": {
  "kernelspec": {
   "display_name": "Python 3",
   "language": "python",
   "name": "python3"
  },
  "language_info": {
   "codemirror_mode": {
    "name": "ipython",
    "version": 3
   },
   "file_extension": ".py",
   "mimetype": "text/x-python",
   "name": "python",
   "nbconvert_exporter": "python",
   "pygments_lexer": "ipython3",
   "version": "3.6.8"
  }
 },
 "nbformat": 4,
 "nbformat_minor": 2
}
